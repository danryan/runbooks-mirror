{
 "nbformat": 4,
 "nbformat_minor": 2,
 "metadata": {
  "language_info": {
   "name": "python",
   "codemirror_mode": {
    "name": "ipython",
    "version": 3
   },
   "version": "3.7.4"
  },
  "orig_nbformat": 2,
  "file_extension": ".py",
  "mimetype": "text/x-python",
  "name": "python",
  "npconvert_exporter": "python",
  "pygments_lexer": "ipython3",
  "version": 3
 },
 "cells": [
  {
   "cell_type": "code",
   "execution_count": 1,
   "metadata": {},
   "outputs": [],
   "source": [
    "import pandas as pd\n",
    "import matplotlib.pyplot as plt\n",
    "import numpy as np\n",
    "import altair as alt\n"
   ]
  },
  {
   "cell_type": "code",
   "execution_count": 2,
   "metadata": {},
   "outputs": [],
   "source": [
    "%matplotlib inline\n"
   ]
  },
  {
   "cell_type": "code",
   "execution_count": 3,
   "metadata": {},
   "outputs": [],
   "source": [
    "%load_ext google.cloud.bigquery\n"
   ]
  },
  {
   "cell_type": "code",
   "execution_count": 14,
   "metadata": {},
   "outputs": [],
   "source": [
    "%%bigquery status_count \n",
    "\n",
    "SELECT date_hour, \n",
    "       result,\n",
    "       count, \n",
    "       cast(percentiles[offset(75)] as FLOAT64) p75_duration_ms,\n",
    "       cast(percentiles[offset(95)] as FLOAT64) p95_duration_ms\n",
    "  FROM (\n",
    "    SELECT TIMESTAMP_TRUNC(a.timestamp, HOUR) as date_hour, \n",
    "          case  \n",
    "            when status < 500 then 'success'\n",
    "            else 'failed'\n",
    "          end result, \n",
    "          count(*) as count, \n",
    "          APPROX_QUANTILES(cast(duration_ms as FLOAT64), 100) percentiles\n",
    "    FROM gcp_perf_analysis.workhorse_thanksgiving a\n",
    "    WHERE DATE(a.timestamp) = \"2019-11-28\" \n",
    "      AND status IS NOT NULL\n",
    "      AND status > 0\n",
    "      AND hostname LIKE 'web-%'\n",
    "      AND uri NOT IN ('/-/readiness', '/-/liveness')\n",
    "    GROUP BY 1,2 \n",
    "    ORDER BY 1,2\n",
    "  )\n",
    "\n"
   ]
  },
  {
   "cell_type": "code",
   "execution_count": 32,
   "metadata": {},
   "outputs": [
    {
     "data": {
      "application/vnd.vegalite.v3+json": {
       "$schema": "https://vega.github.io/schema/vega-lite/v3.4.0.json",
       "config": {
        "mark": {
         "tooltip": null
        },
        "view": {
         "height": 300,
         "width": 400
        }
       },
       "data": {
        "name": "data-1c2df19ef855365ec6e45e090fa60657"
       },
       "datasets": {
        "data-1c2df19ef855365ec6e45e090fa60657": [
         {
          "count": 310,
          "date_hour": "2019-11-28T00:00:00+00:00",
          "p75_duration_ms": 16204,
          "p95_duration_ms": 55295,
          "result": "failed"
         },
         {
          "count": 4220998,
          "date_hour": "2019-11-28T00:00:00+00:00",
          "p75_duration_ms": 127,
          "p95_duration_ms": 371,
          "result": "success"
         },
         {
          "count": 165,
          "date_hour": "2019-11-28T01:00:00+00:00",
          "p75_duration_ms": 15364,
          "p95_duration_ms": 33796,
          "result": "failed"
         },
         {
          "count": 4230232,
          "date_hour": "2019-11-28T01:00:00+00:00",
          "p75_duration_ms": 129,
          "p95_duration_ms": 371,
          "result": "success"
         },
         {
          "count": 239,
          "date_hour": "2019-11-28T02:00:00+00:00",
          "p75_duration_ms": 15595,
          "p95_duration_ms": 43272,
          "result": "failed"
         },
         {
          "count": 4518384,
          "date_hour": "2019-11-28T02:00:00+00:00",
          "p75_duration_ms": 130,
          "p95_duration_ms": 382,
          "result": "success"
         },
         {
          "count": 1094,
          "date_hour": "2019-11-28T03:00:00+00:00",
          "p75_duration_ms": 34732,
          "p95_duration_ms": 60385,
          "result": "failed"
         },
         {
          "count": 4754015,
          "date_hour": "2019-11-28T03:00:00+00:00",
          "p75_duration_ms": 129,
          "p95_duration_ms": 394,
          "result": "success"
         },
         {
          "count": 1075,
          "date_hour": "2019-11-28T04:00:00+00:00",
          "p75_duration_ms": 28434,
          "p95_duration_ms": 47909,
          "result": "failed"
         },
         {
          "count": 4899266,
          "date_hour": "2019-11-28T04:00:00+00:00",
          "p75_duration_ms": 129,
          "p95_duration_ms": 392,
          "result": "success"
         },
         {
          "count": 447,
          "date_hour": "2019-11-28T05:00:00+00:00",
          "p75_duration_ms": 37489,
          "p95_duration_ms": 60525,
          "result": "failed"
         },
         {
          "count": 5040027,
          "date_hour": "2019-11-28T05:00:00+00:00",
          "p75_duration_ms": 129,
          "p95_duration_ms": 389,
          "result": "success"
         },
         {
          "count": 555,
          "date_hour": "2019-11-28T06:00:00+00:00",
          "p75_duration_ms": 34987,
          "p95_duration_ms": 60140,
          "result": "failed"
         },
         {
          "count": 5818594,
          "date_hour": "2019-11-28T06:00:00+00:00",
          "p75_duration_ms": 130,
          "p95_duration_ms": 392,
          "result": "success"
         },
         {
          "count": 754,
          "date_hour": "2019-11-28T07:00:00+00:00",
          "p75_duration_ms": 27719,
          "p95_duration_ms": 41521,
          "result": "failed"
         },
         {
          "count": 6761122,
          "date_hour": "2019-11-28T07:00:00+00:00",
          "p75_duration_ms": 137,
          "p95_duration_ms": 430,
          "result": "success"
         },
         {
          "count": 2111,
          "date_hour": "2019-11-28T08:00:00+00:00",
          "p75_duration_ms": 32588,
          "p95_duration_ms": 60973,
          "result": "failed"
         },
         {
          "count": 8245742,
          "date_hour": "2019-11-28T08:00:00+00:00",
          "p75_duration_ms": 164,
          "p95_duration_ms": 910,
          "result": "success"
         },
         {
          "count": 2595,
          "date_hour": "2019-11-28T09:00:00+00:00",
          "p75_duration_ms": 37631,
          "p95_duration_ms": 61066,
          "result": "failed"
         },
         {
          "count": 9569182,
          "date_hour": "2019-11-28T09:00:00+00:00",
          "p75_duration_ms": 199,
          "p95_duration_ms": 1558,
          "result": "success"
         },
         {
          "count": 3744,
          "date_hour": "2019-11-28T10:00:00+00:00",
          "p75_duration_ms": 33378,
          "p95_duration_ms": 61161,
          "result": "failed"
         },
         {
          "count": 9552857,
          "date_hour": "2019-11-28T10:00:00+00:00",
          "p75_duration_ms": 193,
          "p95_duration_ms": 3407,
          "result": "success"
         },
         {
          "count": 489637,
          "date_hour": "2019-11-28T11:00:00+00:00",
          "p75_duration_ms": 61314,
          "p95_duration_ms": 300001,
          "result": "failed"
         },
         {
          "count": 321307,
          "date_hour": "2019-11-28T11:00:00+00:00",
          "p75_duration_ms": 367,
          "p95_duration_ms": 177934,
          "result": "success"
         },
         {
          "count": 240526,
          "date_hour": "2019-11-28T12:00:00+00:00",
          "p75_duration_ms": 109899,
          "p95_duration_ms": 300001,
          "result": "failed"
         },
         {
          "count": 2587525,
          "date_hour": "2019-11-28T12:00:00+00:00",
          "p75_duration_ms": 387,
          "p95_duration_ms": 20471,
          "result": "success"
         },
         {
          "count": 4315,
          "date_hour": "2019-11-28T13:00:00+00:00",
          "p75_duration_ms": 41390,
          "p95_duration_ms": 61286,
          "result": "failed"
         },
         {
          "count": 8546150,
          "date_hour": "2019-11-28T13:00:00+00:00",
          "p75_duration_ms": 217,
          "p95_duration_ms": 1796,
          "result": "success"
         },
         {
          "count": 379,
          "date_hour": "2019-11-28T14:00:00+00:00",
          "p75_duration_ms": 40390,
          "p95_duration_ms": 61366,
          "result": "failed"
         },
         {
          "count": 2448268,
          "date_hour": "2019-11-28T14:00:00+00:00",
          "p75_duration_ms": 166,
          "p95_duration_ms": 497,
          "result": "success"
         }
        ]
       },
       "encoding": {
        "color": {
         "field": "result",
         "type": "nominal"
        },
        "tooltip": [
         {
          "field": "result",
          "type": "nominal"
         }
        ],
        "x": {
         "field": "date_hour",
         "type": "temporal"
        },
        "y": {
         "field": "count",
         "type": "quantitative"
        }
       },
       "mark": "line"
      },
      "text/plain": "<VegaLite 3 object>\n\nIf you see this message, it means the renderer has not been properly enabled\nfor the frontend that you are using. For more information, see\nhttps://altair-viz.github.io/user_guide/troubleshooting.html\n"
     },
     "execution_count": 32,
     "metadata": {},
     "output_type": "execute_result"
    }
   ],
   "source": [
    "alt.Chart(status_count).mark_line().encode(\n",
    "    y='count', \n",
    "\n",
    "    x='date_hour:T', \n",
    "    color='result',\n",
    "    tooltip=['result:N'],\n",
    ")\n"
   ]
  },
  {
   "cell_type": "code",
   "execution_count": 34,
   "metadata": {},
   "outputs": [],
   "source": [
    "%%bigquery web_request_durations \n",
    "\n",
    "SELECT date_hour, \n",
    "       count, \n",
    "       cast(percentiles[offset(75)] as FLOAT64) p75_duration_ms ,\n",
    "       cast(percentiles[offset(95)] as FLOAT64) p95_duration_ms\n",
    "  FROM (\n",
    "    SELECT TIMESTAMP_TRUNC(a.timestamp, HOUR) as date_hour, \n",
    "          case  \n",
    "            when status < 500 then 'success'\n",
    "            else 'failed'\n",
    "          end result, \n",
    "          count(*) as count, \n",
    "          APPROX_QUANTILES(cast(duration_ms as FLOAT64), 100) percentiles\n",
    "    FROM gcp_perf_analysis.workhorse_thanksgiving a\n",
    "    WHERE status IS NOT NULL\n",
    "      AND status > 0\n",
    "      AND status < 500\n",
    "      AND hostname LIKE 'web-%'\n",
    "      AND uri NOT IN ('/-/readiness', '/-/liveness')\n",
    "    GROUP BY 1,2 \n",
    "    ORDER BY 1,2\n",
    "  )\n"
   ]
  },
  {
   "cell_type": "code",
   "execution_count": 41,
   "metadata": {},
   "outputs": [
    {
     "data": {
      "application/vnd.vegalite.v3+json": {
       "$schema": "https://vega.github.io/schema/vega-lite/v3.4.0.json",
       "config": {
        "mark": {
         "tooltip": null
        },
        "view": {
         "height": 300,
         "width": 400
        }
       },
       "data": {
        "name": "data-95dcd29ca5de4d27bacb62b317a8b474"
       },
       "datasets": {
        "data-95dcd29ca5de4d27bacb62b317a8b474": [
         {
          "count": 79,
          "date_hour": "",
          "p75_duration_ms": 81,
          "p95_duration_ms": 466
         },
         {
          "count": 4220998,
          "date_hour": "2019-11-28T00:00:00+00:00",
          "p75_duration_ms": 127,
          "p95_duration_ms": 371
         },
         {
          "count": 4230232,
          "date_hour": "2019-11-28T01:00:00+00:00",
          "p75_duration_ms": 129,
          "p95_duration_ms": 370
         },
         {
          "count": 4518384,
          "date_hour": "2019-11-28T02:00:00+00:00",
          "p75_duration_ms": 129,
          "p95_duration_ms": 382
         },
         {
          "count": 4754015,
          "date_hour": "2019-11-28T03:00:00+00:00",
          "p75_duration_ms": 129,
          "p95_duration_ms": 395
         },
         {
          "count": 4899266,
          "date_hour": "2019-11-28T04:00:00+00:00",
          "p75_duration_ms": 129,
          "p95_duration_ms": 392
         },
         {
          "count": 5040027,
          "date_hour": "2019-11-28T05:00:00+00:00",
          "p75_duration_ms": 129,
          "p95_duration_ms": 389
         },
         {
          "count": 5818594,
          "date_hour": "2019-11-28T06:00:00+00:00",
          "p75_duration_ms": 130,
          "p95_duration_ms": 392
         },
         {
          "count": 6761122,
          "date_hour": "2019-11-28T07:00:00+00:00",
          "p75_duration_ms": 137,
          "p95_duration_ms": 431
         },
         {
          "count": 8245742,
          "date_hour": "2019-11-28T08:00:00+00:00",
          "p75_duration_ms": 165,
          "p95_duration_ms": 912
         },
         {
          "count": 9569182,
          "date_hour": "2019-11-28T09:00:00+00:00",
          "p75_duration_ms": 200,
          "p95_duration_ms": 1563
         },
         {
          "count": 9552857,
          "date_hour": "2019-11-28T10:00:00+00:00",
          "p75_duration_ms": 193,
          "p95_duration_ms": 3435
         },
         {
          "count": 321307,
          "date_hour": "2019-11-28T11:00:00+00:00",
          "p75_duration_ms": 366,
          "p95_duration_ms": 178786
         },
         {
          "count": 2587525,
          "date_hour": "2019-11-28T12:00:00+00:00",
          "p75_duration_ms": 387,
          "p95_duration_ms": 20589
         },
         {
          "count": 8546150,
          "date_hour": "2019-11-28T13:00:00+00:00",
          "p75_duration_ms": 217,
          "p95_duration_ms": 1802
         },
         {
          "count": 2448268,
          "date_hour": "2019-11-28T14:00:00+00:00",
          "p75_duration_ms": 166,
          "p95_duration_ms": 497
         }
        ]
       },
       "encoding": {
        "x": {
         "field": "date_hour",
         "type": "temporal"
        },
        "y": {
         "field": "p95_duration_ms",
         "scale": {
          "clamp": true,
          "domain": [
           1,
           20000
          ]
         },
         "type": "quantitative"
        }
       },
       "mark": "line"
      },
      "text/plain": "<VegaLite 3 object>\n\nIf you see this message, it means the renderer has not been properly enabled\nfor the frontend that you are using. For more information, see\nhttps://altair-viz.github.io/user_guide/troubleshooting.html\n"
     },
     "execution_count": 41,
     "metadata": {},
     "output_type": "execute_result"
    }
   ],
   "source": [
    "alt.Chart(web_request_durations).mark_line().encode(\n",
    "    y=alt.Y('p95_duration_ms', scale=alt.Scale(domain=[1, 20000], clamp=True)),\n",
    "    x='date_hour:T',  \n",
    ")"
   ]
  },
  {
   "cell_type": "code",
   "execution_count": null,
   "metadata": {},
   "outputs": [],
   "source": []
  }
 ]
}